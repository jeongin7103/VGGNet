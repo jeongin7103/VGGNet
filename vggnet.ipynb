{
  "nbformat": 4,
  "nbformat_minor": 0,
  "metadata": {
    "colab": {
      "provenance": [],
      "authorship_tag": "ABX9TyNdBwrbKXhDe6fYf8ZFT9Ad",
      "include_colab_link": true
    },
    "kernelspec": {
      "name": "python3",
      "display_name": "Python 3"
    },
    "language_info": {
      "name": "python"
    }
  },
  "cells": [
    {
      "cell_type": "markdown",
      "metadata": {
        "id": "view-in-github",
        "colab_type": "text"
      },
      "source": [
        "<a href=\"https://colab.research.google.com/github/jeongin7103/VGGNet/blob/main/vggnet.ipynb\" target=\"_parent\"><img src=\"https://colab.research.google.com/assets/colab-badge.svg\" alt=\"Open In Colab\"/></a>"
      ]
    },
    {
      "cell_type": "code",
      "execution_count": null,
      "metadata": {
        "id": "e6ywCL54RASS"
      },
      "outputs": [],
      "source": [
        "import torch\n",
        "from torch import nn"
      ]
    },
    {
      "cell_type": "code",
      "source": [
        "cfgs = {\"D\": [64, 64, \"M\", 128, 128, \"M\", 256, 256, 256, \"M\", 512, 512, 512, \"M\", 512, 512, 512, \"M\"]}"
      ],
      "metadata": {
        "id": "r9dcBvBNRFS_"
      },
      "execution_count": null,
      "outputs": []
    },
    {
      "cell_type": "code",
      "source": [
        "class VGG(nn.Module):\n",
        "    def __init__(self, cfg, batch_norm, num_classes = 1000, init_weights = True, drop_p = 0.5):\n",
        "        super().__init__()\n",
        "\n",
        "        self.features = self.make_layers(cfg, batch_norm)\n",
        "        self.avgpool = nn.AdaptiveAvgPool2d((7, 7))\n",
        "        self.classifier = nn.Sequential(nn.Linear(512 * 7 * 7, 4096),\n",
        "                                        nn.ReLU(),\n",
        "                                        nn.Dropout(p=drop_p),\n",
        "                                        nn.Linear(4096, 4096),\n",
        "                                        nn.ReLU(),\n",
        "                                        nn.Dropout(p=drop_p),\n",
        "                                        nn.Linear(4096, num_classes))\n",
        "\n",
        "        if init_weights:\n",
        "            for m in self.modules():\n",
        "                if isinstance(m, nn.Conv2d):\n",
        "                    nn.init.kaiming_normal_(m.weight, mode=\"fan_out\", nonlinearity='relu')\n",
        "                    if m.bias is not None:\n",
        "                        nn.init.constant_(m.bias, 0)\n",
        "                elif isinstance(m, nn.Linear):\n",
        "                    nn.init.normal_(m.weight, 0, 0.01)\n",
        "                    nn.init.constant_(m.bias, 0)\n",
        "\n",
        "    def forward(self, x):\n",
        "        x = self.features(x)\n",
        "        x = self.avgpool(x)\n",
        "        x = torch.flatten(x,start_dim = 1)\n",
        "        x = self.classifier(x)\n",
        "        return x\n",
        "\n",
        "\n",
        "    def make_layers(self, cfg, batch_norm = False):\n",
        "        layers = []\n",
        "        in_channels = 3\n",
        "        for v in cfg:\n",
        "            if type(v) == int:\n",
        "                if batch_norm:\n",
        "                    layers += [nn.Conv2d(in_channels, v, 3, padding=1),\n",
        "                               nn.BatchNorm2d(v),\n",
        "                               nn.ReLU()]\n",
        "                else:\n",
        "                    layers += [nn.Conv2d(in_channels, v, 3, padding=1),\n",
        "                               nn.ReLU()]\n",
        "                in_channels = v\n",
        "            elif type(v) == str:\n",
        "                layers += [nn.MaxPool2d(2)]\n",
        "        return nn.Sequential(*layers)"
      ],
      "metadata": {
        "id": "46B9LcGcRTf1"
      },
      "execution_count": null,
      "outputs": []
    },
    {
      "cell_type": "code",
      "source": [
        "model = VGG(cfgs[\"D\"], batch_norm=False)\n",
        "!pip install torchinfo\n",
        "from torchinfo import summary\n",
        "summary(model, input_size=(2, 3, 224, 224), device='cpu')"
      ],
      "metadata": {
        "colab": {
          "base_uri": "https://localhost:8080/"
        },
        "id": "Xvwua4RUTwot",
        "outputId": "a58f1f44-8c37-4781-9cef-30de08f0bda7"
      },
      "execution_count": null,
      "outputs": [
        {
          "output_type": "stream",
          "name": "stdout",
          "text": [
            "Collecting torchinfo\n",
            "  Downloading torchinfo-1.8.0-py3-none-any.whl (23 kB)\n",
            "Installing collected packages: torchinfo\n",
            "Successfully installed torchinfo-1.8.0\n"
          ]
        },
        {
          "output_type": "execute_result",
          "data": {
            "text/plain": [
              "==========================================================================================\n",
              "Layer (type:depth-idx)                   Output Shape              Param #\n",
              "==========================================================================================\n",
              "VGG                                      [2, 1000]                 --\n",
              "├─Sequential: 1-1                        [2, 512, 7, 7]            --\n",
              "│    └─Conv2d: 2-1                       [2, 64, 224, 224]         1,792\n",
              "│    └─ReLU: 2-2                         [2, 64, 224, 224]         --\n",
              "│    └─Conv2d: 2-3                       [2, 64, 224, 224]         36,928\n",
              "│    └─ReLU: 2-4                         [2, 64, 224, 224]         --\n",
              "│    └─MaxPool2d: 2-5                    [2, 64, 112, 112]         --\n",
              "│    └─Conv2d: 2-6                       [2, 128, 112, 112]        73,856\n",
              "│    └─ReLU: 2-7                         [2, 128, 112, 112]        --\n",
              "│    └─Conv2d: 2-8                       [2, 128, 112, 112]        147,584\n",
              "│    └─ReLU: 2-9                         [2, 128, 112, 112]        --\n",
              "│    └─MaxPool2d: 2-10                   [2, 128, 56, 56]          --\n",
              "│    └─Conv2d: 2-11                      [2, 256, 56, 56]          295,168\n",
              "│    └─ReLU: 2-12                        [2, 256, 56, 56]          --\n",
              "│    └─Conv2d: 2-13                      [2, 256, 56, 56]          590,080\n",
              "│    └─ReLU: 2-14                        [2, 256, 56, 56]          --\n",
              "│    └─Conv2d: 2-15                      [2, 256, 56, 56]          590,080\n",
              "│    └─ReLU: 2-16                        [2, 256, 56, 56]          --\n",
              "│    └─MaxPool2d: 2-17                   [2, 256, 28, 28]          --\n",
              "│    └─Conv2d: 2-18                      [2, 512, 28, 28]          1,180,160\n",
              "│    └─ReLU: 2-19                        [2, 512, 28, 28]          --\n",
              "│    └─Conv2d: 2-20                      [2, 512, 28, 28]          2,359,808\n",
              "│    └─ReLU: 2-21                        [2, 512, 28, 28]          --\n",
              "│    └─Conv2d: 2-22                      [2, 512, 28, 28]          2,359,808\n",
              "│    └─ReLU: 2-23                        [2, 512, 28, 28]          --\n",
              "│    └─MaxPool2d: 2-24                   [2, 512, 14, 14]          --\n",
              "│    └─Conv2d: 2-25                      [2, 512, 14, 14]          2,359,808\n",
              "│    └─ReLU: 2-26                        [2, 512, 14, 14]          --\n",
              "│    └─Conv2d: 2-27                      [2, 512, 14, 14]          2,359,808\n",
              "│    └─ReLU: 2-28                        [2, 512, 14, 14]          --\n",
              "│    └─Conv2d: 2-29                      [2, 512, 14, 14]          2,359,808\n",
              "│    └─ReLU: 2-30                        [2, 512, 14, 14]          --\n",
              "│    └─MaxPool2d: 2-31                   [2, 512, 7, 7]            --\n",
              "├─AdaptiveAvgPool2d: 1-2                 [2, 512, 7, 7]            --\n",
              "├─Sequential: 1-3                        [2, 1000]                 --\n",
              "│    └─Linear: 2-32                      [2, 4096]                 102,764,544\n",
              "│    └─ReLU: 2-33                        [2, 4096]                 --\n",
              "│    └─Dropout: 2-34                     [2, 4096]                 --\n",
              "│    └─Linear: 2-35                      [2, 4096]                 16,781,312\n",
              "│    └─ReLU: 2-36                        [2, 4096]                 --\n",
              "│    └─Dropout: 2-37                     [2, 4096]                 --\n",
              "│    └─Linear: 2-38                      [2, 1000]                 4,097,000\n",
              "==========================================================================================\n",
              "Total params: 138,357,544\n",
              "Trainable params: 138,357,544\n",
              "Non-trainable params: 0\n",
              "Total mult-adds (G): 30.97\n",
              "==========================================================================================\n",
              "Input size (MB): 1.20\n",
              "Forward/backward pass size (MB): 216.91\n",
              "Params size (MB): 553.43\n",
              "Estimated Total Size (MB): 771.54\n",
              "=========================================================================================="
            ]
          },
          "metadata": {},
          "execution_count": 7
        }
      ]
    }
  ]
}